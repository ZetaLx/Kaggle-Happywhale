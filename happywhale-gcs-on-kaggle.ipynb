{
 "cells": [
  {
   "cell_type": "code",
   "execution_count": 1,
   "metadata": {
    "_cell_guid": "b1076dfc-b9ad-4769-8c92-a6c4dae69d19",
    "_uuid": "8f2839f25d086af736a60e9eeb907d3b93b6e0e5",
    "execution": {
     "iopub.execute_input": "2022-04-22T05:42:39.970438Z",
     "iopub.status.busy": "2022-04-22T05:42:39.970049Z",
     "iopub.status.idle": "2022-04-22T05:42:45.249442Z",
     "shell.execute_reply": "2022-04-22T05:42:45.248424Z"
    },
    "papermill": {
     "duration": 5.290118,
     "end_time": "2022-04-22T05:42:45.252017",
     "exception": false,
     "start_time": "2022-04-22T05:42:39.961899",
     "status": "completed"
    },
    "tags": []
   },
   "outputs": [],
   "source": [
    "#本代码只能在kaggle平台上运行，internet设置为On，同时需要加载下面两个链接的数据\n",
    "#https://www.kaggle.com/datasets/canming/happywhale-metadataset\n",
    "#https://www.kaggle.com/datasets/canming/whale-tfrecords-backfin-pesudo-22k\n",
    "from kaggle_datasets import KaggleDatasets\n",
    "import numpy as np\n",
    "import tensorflow as tf"
   ]
  },
  {
   "cell_type": "code",
   "execution_count": 2,
   "metadata": {
    "execution": {
     "iopub.execute_input": "2022-04-22T05:42:45.265177Z",
     "iopub.status.busy": "2022-04-22T05:42:45.264243Z",
     "iopub.status.idle": "2022-04-22T05:42:45.857683Z",
     "shell.execute_reply": "2022-04-22T05:42:45.856782Z"
    },
    "papermill": {
     "duration": 0.602606,
     "end_time": "2022-04-22T05:42:45.860283",
     "exception": false,
     "start_time": "2022-04-22T05:42:45.257677",
     "status": "completed"
    },
    "tags": []
   },
   "outputs": [
    {
     "data": {
      "text/plain": [
       "'gs://kds-da2f897ed8c8dc563a063966df60efe5b7515061aaaa2c0bb4752574'"
      ]
     },
     "execution_count": 2,
     "metadata": {},
     "output_type": "execute_result"
    }
   ],
   "source": [
    "#背鳍数据集gcs链接地址\n",
    "KaggleDatasets().get_gcs_path('whale-tfrecords-backfin')\n"
   ]
  },
  {
   "cell_type": "code",
   "execution_count": 3,
   "metadata": {
    "execution": {
     "iopub.execute_input": "2022-04-22T05:42:45.873354Z",
     "iopub.status.busy": "2022-04-22T05:42:45.873092Z",
     "iopub.status.idle": "2022-04-22T05:42:46.336416Z",
     "shell.execute_reply": "2022-04-22T05:42:46.335516Z"
    },
    "papermill": {
     "duration": 0.472788,
     "end_time": "2022-04-22T05:42:46.338951",
     "exception": false,
     "start_time": "2022-04-22T05:42:45.866163",
     "status": "completed"
    },
    "tags": []
   },
   "outputs": [
    {
     "data": {
      "text/plain": [
       "'gs://kds-43df466a41983f4e878986b8903b3b6d4efe70a62e5a0dc967a3caca'"
      ]
     },
     "execution_count": 3,
     "metadata": {},
     "output_type": "execute_result"
    }
   ],
   "source": [
    "#伪标签数据集gcs链接地址\n",
    "KaggleDatasets().get_gcs_path('whale-tfrecords-backfin-pesudo-22k')\n"
   ]
  },
  {
   "cell_type": "code",
   "execution_count": null,
   "metadata": {
    "papermill": {
     "duration": 0.006144,
     "end_time": "2022-04-22T05:42:46.351481",
     "exception": false,
     "start_time": "2022-04-22T05:42:46.345337",
     "status": "completed"
    },
    "tags": []
   },
   "outputs": [],
   "source": []
  }
 ],
 "metadata": {
  "kernelspec": {
   "display_name": "Python 3",
   "language": "python",
   "name": "python3"
  },
  "language_info": {
   "codemirror_mode": {
    "name": "ipython",
    "version": 3
   },
   "file_extension": ".py",
   "mimetype": "text/x-python",
   "name": "python",
   "nbconvert_exporter": "python",
   "pygments_lexer": "ipython3",
   "version": "3.7.4"
  },
  "papermill": {
   "default_parameters": {},
   "duration": 19.631412,
   "end_time": "2022-04-22T05:42:49.577499",
   "environment_variables": {},
   "exception": null,
   "input_path": "__notebook__.ipynb",
   "output_path": "__notebook__.ipynb",
   "parameters": {},
   "start_time": "2022-04-22T05:42:29.946087",
   "version": "2.3.4"
  }
 },
 "nbformat": 4,
 "nbformat_minor": 5
}
